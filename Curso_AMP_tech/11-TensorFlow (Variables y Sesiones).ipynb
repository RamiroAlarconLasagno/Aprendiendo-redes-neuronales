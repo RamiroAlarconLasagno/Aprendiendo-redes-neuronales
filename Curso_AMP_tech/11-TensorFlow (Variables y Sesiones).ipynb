{
 "cells": [
  {
   "cell_type": "markdown",
   "metadata": {},
   "source": [
    "# TensorFlow: Variables y Sesiones\n",
    "\n",
    "Como generar nuestra grafica computacional y tipos de datos mas usados en redes neuronales."
   ]
  },
  {
   "cell_type": "code",
   "execution_count": 1,
   "metadata": {},
   "outputs": [],
   "source": [
    "#Importamos libreria (conda install -c conda-forge tensorflow)\n",
    "import tensorflow as tf"
   ]
  },
  {
   "cell_type": "code",
   "execution_count": 2,
   "metadata": {},
   "outputs": [],
   "source": [
    "#Variable que no cambia su valor en todo el programa.\n",
    "constante = tf.constant([2.0,3,4], dtype = tf.float32, name = 'Constante1')\n",
    "#definimos la grafica computacional asi que en realidad no tiene los valores definidos."
   ]
  },
  {
   "cell_type": "code",
   "execution_count": 3,
   "metadata": {},
   "outputs": [
    {
     "name": "stdout",
     "output_type": "stream",
     "text": [
      "Tensor(\"Constante1:0\", shape=(3,), dtype=float32)\n"
     ]
    }
   ],
   "source": [
    "print(constante)"
   ]
  },
  {
   "cell_type": "code",
   "execution_count": 4,
   "metadata": {},
   "outputs": [],
   "source": [
    "#Otro tipo de dato es el placeholder: una variable vacia que se va llenando a medida que transcurre el programa\n",
    "apartado = tf.placeholder(tf.float32,name='Apartado1')"
   ]
  },
  {
   "cell_type": "code",
   "execution_count": 5,
   "metadata": {},
   "outputs": [
    {
     "name": "stdout",
     "output_type": "stream",
     "text": [
      "Tensor(\"Apartado1:0\", dtype=float32)\n"
     ]
    }
   ],
   "source": [
    "print(apartado)"
   ]
  },
  {
   "cell_type": "code",
   "execution_count": 6,
   "metadata": {},
   "outputs": [
    {
     "name": "stdout",
     "output_type": "stream",
     "text": [
      "WARNING:tensorflow:From C:\\Users\\ramir\\Anaconda3\\lib\\site-packages\\tensorflow\\python\\framework\\op_def_library.py:263: colocate_with (from tensorflow.python.framework.ops) is deprecated and will be removed in a future version.\n",
      "Instructions for updating:\n",
      "Colocations handled automatically by placer.\n"
     ]
    }
   ],
   "source": [
    "#Tipo de dato que puede cambiar de valor a lo largo del programa.\n",
    "variable = tf.Variable(3,dtype = tf.float32,name='variable1') #valor inicial en este caso es \"3\""
   ]
  },
  {
   "cell_type": "code",
   "execution_count": 7,
   "metadata": {},
   "outputs": [
    {
     "name": "stdout",
     "output_type": "stream",
     "text": [
      "<tf.Variable 'variable1:0' shape=() dtype=float32_ref>\n"
     ]
    }
   ],
   "source": [
    "print(variable)"
   ]
  },
  {
   "cell_type": "code",
   "execution_count": 8,
   "metadata": {},
   "outputs": [],
   "source": [
    "#Matriz de \"0\"\n",
    "matriz = tf.zeros([3,4],tf.int32, name='Matriz') #En este caso es una matriz de (3x4)"
   ]
  },
  {
   "cell_type": "code",
   "execution_count": 9,
   "metadata": {},
   "outputs": [
    {
     "name": "stdout",
     "output_type": "stream",
     "text": [
      "Tensor(\"Matriz:0\", shape=(3, 4), dtype=int32)\n"
     ]
    }
   ],
   "source": [
    "print(matriz)"
   ]
  },
  {
   "cell_type": "markdown",
   "metadata": {},
   "source": [
    "#### Mostrar los valores\n",
    "Ya generada la grafica computacional lo que vamos a hacer es en los siguientes tres renglones vamos definir dentro de las variables, los valores asignados."
   ]
  },
  {
   "cell_type": "code",
   "execution_count": 10,
   "metadata": {},
   "outputs": [],
   "source": [
    "inicializar = tf.global_variables_initializer()\n",
    "sess = tf.Session() # Esta variable va a correr toda la grafica computacional\n",
    "sess.run(inicializar) # Ahora esta corriendo la grafica computacional todos los valores estan asignados"
   ]
  },
  {
   "cell_type": "markdown",
   "metadata": {},
   "source": [
    "Ahora ya podemos ver (en el caso de la variable \"constante\") sus valores asignados."
   ]
  },
  {
   "cell_type": "code",
   "execution_count": 11,
   "metadata": {},
   "outputs": [
    {
     "name": "stdout",
     "output_type": "stream",
     "text": [
      "[2. 3. 4.]\n"
     ]
    }
   ],
   "source": [
    "print(sess.run(constante))"
   ]
  },
  {
   "cell_type": "markdown",
   "metadata": {},
   "source": [
    "#### Multiplicaicon \n",
    "Ahora intentaremos hacer una multiplicacion entre valores de un vector a otro.<br/> Primero definimos la multiplicacion de las variables y mas tarde le damos a <b>\"apartado\"</b> el valor ya que es una variable sin valor mientras imprimimos el resultado."
   ]
  },
  {
   "cell_type": "code",
   "execution_count": 12,
   "metadata": {},
   "outputs": [],
   "source": [
    "multiplicacion = apartado*constante"
   ]
  },
  {
   "cell_type": "code",
   "execution_count": 13,
   "metadata": {},
   "outputs": [
    {
     "name": "stdout",
     "output_type": "stream",
     "text": [
      "[[30. 30. 20.]]\n"
     ]
    }
   ],
   "source": [
    "print(sess.run(multiplicacion,feed_dict={apartado: [[15,10,5]]}))"
   ]
  },
  {
   "cell_type": "code",
   "execution_count": 14,
   "metadata": {},
   "outputs": [
    {
     "name": "stdout",
     "output_type": "stream",
     "text": [
      "[[18. 25. 12.]\n",
      " [30. 46. 16.]]\n"
     ]
    }
   ],
   "source": [
    "# La multiplicacion de matrices lleca la forma (M,N)x(N,M)=(M,M)\n",
    "#Generamos grafica computacional\n",
    "a=tf.placeholder(tf.float32, shape=(2,2))\n",
    "b=tf.placeholder(tf.float32, shape=(2,3))\n",
    "mult = tf.matmul(a,b)\n",
    "#Corremos nuestra grafica computacional\n",
    "init = tf.global_variables_initializer()\n",
    "sess=tf.Session()\n",
    "sess.run(init)\n",
    "# Con mult le pedios que ejecute la funcion predefinida. Con feed_dict alimentamos las variables con los valores.\n",
    "print(sess.run(mult, feed_dict={a:[[1,2],[2,2]], b:[[12,21,4],[3,2,4]]}))"
   ]
  },
  {
   "cell_type": "code",
   "execution_count": 15,
   "metadata": {},
   "outputs": [
    {
     "name": "stdout",
     "output_type": "stream",
     "text": [
      "10.0\n"
     ]
    }
   ],
   "source": [
    "#Producto punto entre dos vecores.\n",
    "#grafica computacional\n",
    "c=tf.placeholder(tf.float32, shape=(3)) #Vectores de tres elementos\n",
    "d=tf.placeholder(tf.float32, shape=(3)) #Vectores de tres elementos\n",
    "punto=tf.tensordot(c,d,1)\n",
    "#corremos la grafica computacional\n",
    "init=tf.global_variables_initializer()\n",
    "sess = tf.Session()\n",
    "sess.run(init)\n",
    "print(sess.run(punto,feed_dict={c:[1,2,3],d:[3,2,1]}))"
   ]
  },
  {
   "cell_type": "code",
   "execution_count": null,
   "metadata": {},
   "outputs": [],
   "source": []
  }
 ],
 "metadata": {
  "kernelspec": {
   "display_name": "Python 3",
   "language": "python",
   "name": "python3"
  },
  "language_info": {
   "codemirror_mode": {
    "name": "ipython",
    "version": 3
   },
   "file_extension": ".py",
   "mimetype": "text/x-python",
   "name": "python",
   "nbconvert_exporter": "python",
   "pygments_lexer": "ipython3",
   "version": "3.8.3"
  }
 },
 "nbformat": 4,
 "nbformat_minor": 2
}
