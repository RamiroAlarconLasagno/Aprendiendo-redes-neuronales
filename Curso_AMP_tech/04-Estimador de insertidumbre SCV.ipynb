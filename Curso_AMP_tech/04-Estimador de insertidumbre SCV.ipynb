{
 "cells": [
  {
   "cell_type": "code",
   "execution_count": 1,
   "metadata": {},
   "outputs": [],
   "source": [
    "from sklearn.datasets import load_iris\n",
    "from sklearn.model_selection import train_test_split\n",
    "from sklearn import svm\n",
    "from sklearn.svm import SVC #Agregado por mi porque no funcionaba el svc"
   ]
  },
  {
   "cell_type": "code",
   "execution_count": 2,
   "metadata": {},
   "outputs": [],
   "source": [
    "iris=load_iris()"
   ]
  },
  {
   "cell_type": "code",
   "execution_count": 3,
   "metadata": {},
   "outputs": [],
   "source": [
    "X_ent, X_test, Y_ent, Y_test = train_test_split(iris.data, iris.target)"
   ]
  },
  {
   "cell_type": "code",
   "execution_count": 4,
   "metadata": {},
   "outputs": [],
   "source": [
    "algoritmo = svm.SVC(probability=True, gamma='auto')"
   ]
  },
  {
   "cell_type": "code",
   "execution_count": 5,
   "metadata": {},
   "outputs": [
    {
     "data": {
      "text/plain": [
       "SVC(C=1.0, cache_size=200, class_weight=None, coef0=0.0,\n",
       "    decision_function_shape='ovr', degree=3, gamma='auto', kernel='rbf',\n",
       "    max_iter=-1, probability=True, random_state=None, shrinking=True, tol=0.001,\n",
       "    verbose=False)"
      ]
     },
     "execution_count": 5,
     "metadata": {},
     "output_type": "execute_result"
    }
   ],
   "source": [
    "algoritmo.fit(X_ent, Y_ent)"
   ]
  },
  {
   "cell_type": "code",
   "execution_count": 6,
   "metadata": {},
   "outputs": [
    {
     "data": {
      "text/plain": [
       "array([[-0.21263589,  2.25105538,  0.81225368],\n",
       "       [-0.18290142,  0.84034289,  2.22701105],\n",
       "       [-0.21165356,  2.24041612,  0.84704265],\n",
       "       [ 2.22649065,  0.85127443, -0.18929643],\n",
       "       [ 2.23298361,  0.81880535, -0.17689265],\n",
       "       [ 2.23189554,  0.82987264, -0.18476769],\n",
       "       [-0.21747798,  1.1414805 ,  2.17754884],\n",
       "       [ 0.89460413,  2.21351279, -0.18962722],\n",
       "       [-0.22342401,  2.22824288,  0.95930363],\n",
       "       [-0.22422005,  1.14623329,  2.1867069 ]])"
      ]
     },
     "execution_count": 6,
     "metadata": {},
     "output_type": "execute_result"
    }
   ],
   "source": [
    "algoritmo.decision_function_shape = \"ovr\"\n",
    "algoritmo.decision_function(X_test)[:10]"
   ]
  },
  {
   "cell_type": "code",
   "execution_count": 8,
   "metadata": {},
   "outputs": [
    {
     "data": {
      "text/plain": [
       "array([[0.01030311, 0.98657214, 0.00312475],\n",
       "       [0.02350189, 0.03213877, 0.94435933],\n",
       "       [0.01055094, 0.979161  , 0.01028806],\n",
       "       [0.94791135, 0.03223749, 0.01985116],\n",
       "       [0.96097613, 0.01912766, 0.01989622],\n",
       "       [0.95964968, 0.02211969, 0.01823063],\n",
       "       [0.01912238, 0.36093239, 0.61994523],\n",
       "       [0.09570139, 0.8746099 , 0.02968872],\n",
       "       [0.00991455, 0.95726208, 0.03282337],\n",
       "       [0.01391959, 0.34431738, 0.64176302]])"
      ]
     },
     "execution_count": 8,
     "metadata": {},
     "output_type": "execute_result"
    }
   ],
   "source": [
    "algoritmo.predict_proba(X_test)[:10]"
   ]
  },
  {
   "cell_type": "code",
   "execution_count": 9,
   "metadata": {},
   "outputs": [
    {
     "data": {
      "text/plain": [
       "array([1, 2, 1, 0, 0, 0, 2, 1, 1, 2])"
      ]
     },
     "execution_count": 9,
     "metadata": {},
     "output_type": "execute_result"
    }
   ],
   "source": [
    "algoritmo.predict(X_test)[:10]"
   ]
  },
  {
   "cell_type": "code",
   "execution_count": null,
   "metadata": {},
   "outputs": [],
   "source": []
  }
 ],
 "metadata": {
  "kernelspec": {
   "display_name": "Python 3",
   "language": "python",
   "name": "python3"
  },
  "language_info": {
   "codemirror_mode": {
    "name": "ipython",
    "version": 3
   },
   "file_extension": ".py",
   "mimetype": "text/x-python",
   "name": "python",
   "nbconvert_exporter": "python",
   "pygments_lexer": "ipython3",
   "version": "3.7.4"
  }
 },
 "nbformat": 4,
 "nbformat_minor": 2
}
